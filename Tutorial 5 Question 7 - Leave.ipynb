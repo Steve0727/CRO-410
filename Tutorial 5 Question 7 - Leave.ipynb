{
 "cells": [
  {
   "cell_type": "markdown",
   "metadata": {},
   "source": [
    "# Tutorial 5\n",
    "## Question 7\n",
    "\n",
    "The first order irreversible liquid phase reaction\n",
    "\n",
    "$$A\\rightarrow B$$\n",
    "\n",
    "is studied in an adiabatic CSTR and an isothermal PFR with similar feeds (flowrate and concentration).\n",
    "\n",
    "The CSTR achieves a 80% conversion. The idea is to obtain the same conversion in the PFR using the same amount of catalyst.\n",
    "\n",
    "This can be done by varying the particle size in the PFR or the operating temperature of the PFR.\n",
    "\n",
    "The CSTR conditions (catalyst size and inlet temperature) remains the same and are specified below.\n",
    "\n",
    "External mass transfer can be neglected in this problem.\n",
    "\n",
    "\\begin{align}\n",
    "&\\mathrm{CSTR\\ Information}\\\\\n",
    "d_p &= 1\\ \\mathrm{mm}\\\\\n",
    "T_o &= 200\\ \\mathrm{^\\circ C}\\\\\n",
    "&\\mathrm{Information\\ on\\ the\\ reaction:}\\\\\n",
    "H_{Rx} &= -25\\ \\mathrm{kJ/mol\\ (exothermic)}\\\\\n",
    "C_{pA} &= 125\\ \\mathrm{J/mol/K}\\\\\n",
    "E_A &= 50\\ \\mathrm{kJ/mol}\\\\\n",
    "D_e &= 7e-8\\ \\mathrm{m^22/s}\\\\\n",
    "\\rho_c &= 2500\\ \\mathrm{kg/m^3}\\\\\n",
    "Q &= 10\\ \\mathrm{L/s}\\\\\n",
    "W &= 10\\ \\mathrm{kg}\n",
    "\\end{align}"
   ]
  },
  {
   "cell_type": "markdown",
   "metadata": {},
   "source": [
    "---\n",
    "### Part A\n",
    "If the operating temperature of the PFR is 250°C, what size catalyst should be\n",
    "used?\n",
    "\n",
    "---"
   ]
  },
  {
   "cell_type": "markdown",
   "metadata": {},
   "source": [
    "### Part B\n",
    "If the catalyst size in the PFR is 3 mm at what temperature should the PFR be\n",
    "operated?\n",
    "\n",
    "---"
   ]
  },
  {
   "cell_type": "markdown",
   "metadata": {},
   "source": [
    "### Part C\n",
    "If an adiabatic PFR was used with an inlet temperature of 250 $^\\circ$C, will the rate\n",
    "be monotonically decreasing or not?\n",
    "\n",
    "---"
   ]
  },
  {
   "cell_type": "code",
   "execution_count": null,
   "metadata": {
    "collapsed": true
   },
   "outputs": [],
   "source": []
  }
 ],
 "metadata": {
  "anaconda-cloud": {},
  "kernelspec": {
   "display_name": "Python [conda root]",
   "language": "python",
   "name": "conda-root-py"
  },
  "language_info": {
   "codemirror_mode": {
    "name": "ipython",
    "version": 3
   },
   "file_extension": ".py",
   "mimetype": "text/x-python",
   "name": "python",
   "nbconvert_exporter": "python",
   "pygments_lexer": "ipython3",
   "version": "3.5.2"
  }
 },
 "nbformat": 4,
 "nbformat_minor": 1
}
