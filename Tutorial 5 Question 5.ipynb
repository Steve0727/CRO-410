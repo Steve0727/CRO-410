{
 "cells": [
  {
   "cell_type": "markdown",
   "metadata": {},
   "source": [
    "# Tutorial 5\n",
    "## Question 5\n",
    "\n",
    "It is commonly accepted that an effectiveness factor of 99 % can be approximated as reaction rate controlled, while a Thiele modulus of 20 represents complete internal mass transfer control where the apparent rate is inverse proportional to the catalyst effective diameter.\n",
    "\n",
    "It is further accepted that for a Thiele modulus bigger than 20, one can obtain the apparent rate constant at higher temperatures by extrapolating with a value half that of the activation energy, while for effectiveness factors bigger than 99% one can obtain the true rate constant at lower temperatures by extrapolating with the activation energy.\n",
    "\n",
    "To approximate the area between internal mass transfer control and reaction rate control, the above extrapolations are sometimes performed in the reverse direction to obtain an intersection point (at a specific temperature) where the activation energy line on an Arhenius plot takes a sudden ‘bend’.\n",
    "\n",
    "This approximation is not completely correct. We are interested in quantifying the error of this approximation for a first order reaction with the following properties.\n",
    "\n",
    "\\begin{array}{lrl}\n",
    "\\hline\n",
    "\\mathrm{Parameter} & \\mathrm{Value} & \\mathrm{Units}\\\\\n",
    "\\hline\n",
    "D_e & 4\\times 10^{-9} & \\mathrm{m^2/s}\\\\\n",
    "d_p & 2 & \\mathrm{mm}\\\\\n",
    "\\rho_c & 2000 & \\mathrm{kg/m^3}\\\\\n",
    "E_{A,True} & 80000 & \\mathrm{kJ/mol}\\\\\n",
    "k_i'\\ @\\ (25\\ ^\\circ C) & 3\\times 10^{-7} & \\mathrm{m^3/kg/s}\\\\\n",
    "\\hline\n",
    "\\end{array}"
   ]
  },
  {
   "cell_type": "markdown",
   "metadata": {},
   "source": [
    "---\n",
    "### Part A\n",
    "Plot the above description on an Arrhenius plot and show the region where the extrapolation is not entirely correct."
   ]
  },
  {
   "cell_type": "markdown",
   "metadata": {},
   "source": [
    "---\n",
    "For the intrinsic rate constant, $k'_i(T)$, the Arhennius relation is,\n",
    "\n",
    "\\begin{align}\n",
    "k_i'(T)=k_o'\\exp\\left(-\\frac{E}{RT}\\right)\n",
    "\\end{align}\n",
    "\n",
    "The Thiele modulus is dependent on $k_i'$ and is thus a function of $T$,\n",
    "\n",
    "$$\n",
    "\\phi_1^2=\\frac{k'_i\\rho_cR^2}{D_e}\n",
    "$$\n",
    "\n",
    "The rate law is dependent on $\\eta$ which depends on $\\phi_1$ and thus $T$,\n",
    "\n",
    "$$\n",
    "\\eta=\\frac{3}{\\phi^2_1}\\left(\\phi_1\\coth\\phi_1-1\\right)\n",
    "$$"
   ]
  },
  {
   "cell_type": "code",
   "execution_count": 68,
   "metadata": {
    "collapsed": false
   },
   "outputs": [
    {
     "data": {
      "text/plain": [
       "[<matplotlib.lines.Line2D at 0x1f94add40b8>]"
      ]
     },
     "execution_count": 68,
     "metadata": {},
     "output_type": "execute_result"
    },
    {
     "data": {
      "image/png": "[encoded data removed]",
      "text/plain": [
       "<matplotlib.figure.Figure at 0x1f949c86978>"
      ]
     },
     "metadata": {},
     "output_type": "display_data"
    }
   ],
   "source": [
    "import numpy as np\n",
    "import matplotlib.pyplot as plt\n",
    "%matplotlib inline\n",
    "from scipy.optimize import fsolve\n",
    "\n",
    "def solve():\n",
    "    def sol(ko):\n",
    "        T25 = 298\n",
    "        k = 3e-7\n",
    "        ET = 8e4\n",
    "        R = 8.314\n",
    "        return k - ko*np.exp(-ET/R/T25)\n",
    "    return fsolve(sol, 3e3)[0]\n",
    "ko = solve()\n",
    "    \n",
    "def ki(T):\n",
    "    ET = 8e4\n",
    "    R = 8.314\n",
    "    return ko*np.exp(-ET/R/T)\n",
    "\n",
    "def phi2(T):\n",
    "    De = 4e-9\n",
    "    dp = 2e-3\n",
    "    rhoc = 2000\n",
    "    return ki(T)*rhoc*((dp/2)**2)/De\n",
    "\n",
    "def eta(T):\n",
    "    phi = np.sqrt(phi2(T))\n",
    "    return 3/phi2(T) * (phi/np.tanh(phi) - 1)\n",
    "\n",
    "def kapp(T):\n",
    "    return ki(T)*eta(T)\n",
    "\n",
    "T_1 = np.linspace(0.002, 0.004, 10000)\n",
    "y = np.log(kapp(1/T_1))\n",
    "\n",
    "plt.plot(T_1, y)"
   ]
  },
  {
   "cell_type": "markdown",
   "metadata": {},
   "source": [
    "---\n",
    "### Part B\n",
    "\n",
    "What is the effectiveness factor at 25°C?"
   ]
  },
  {
   "cell_type": "markdown",
   "metadata": {},
   "source": [
    "---\n",
    "Determine $\\phi_1$\n",
    "\n",
    "\\begin{align}\n",
    "\\phi^2_n&=\\frac{k'_i\\rho_cR^2C_{As}^{n-1}}{D_e}\\\\\n",
    "\\phi^2_1&=\\frac{(3.0\\times 10^{-4})(2000)(1.0\\times 10^{-3})^2}{4.0\\times 10^{-9}}\\\\\n",
    "&=0.1500\\\\\n",
    "\\phi_1&=0.3873\n",
    "\\end{align}\n",
    "\n",
    "Now calculate $\\eta$\n",
    "\n",
    "\\begin{align}\n",
    "\\eta&=\\frac{3}{\\phi_1^2}\\left(\\phi_1\\coth\\phi_1-1\\right)\\\\\n",
    "&=\\frac{3}{0.15}\\left(0.3873\\coth(0.3873)-1\\right)\\\\\n",
    "&=0.99\n",
    "\\end{align}\n",
    "\n",
    "**This implies that we can assume reaction rate controlled. Additionally, we could obtain the rate constant at lower temperatures by extrapolating with the activation energy.**"
   ]
  },
  {
   "cell_type": "markdown",
   "metadata": {},
   "source": [
    "---\n",
    "### Part C\n",
    "Above what temperature can one assume that complete internal mass transfer controls the reaction rate?\n",
    "\n",
    "---"
   ]
  },
  {
   "cell_type": "markdown",
   "metadata": {},
   "source": [
    "**We need to find $T$ where $\\phi_1>20$**\n",
    "\n",
    "First determine $\\ln k_o$\n",
    "\\begin{align}\n",
    "\\ln(k_{20})&=\\ln k_o-\\frac{E_A}{RT}\\\\\n",
    "\\implies \\ln k_o&=\\ln(3.0\\times 10^{-7})+\\frac{80000}{8.314(298)}\\\\\n",
    "&=17.270\n",
    "\\end{align}\n",
    "\n",
    "Now determine relationship between $k_T$ and $\\frac{1}{T}$,\n",
    "\n",
    "\\begin{align}\n",
    "\\ln k_T&=\\ln k_o-\\frac{E_A}{RT}\\\\\n",
    "\\implies \\ln k_T&=17.270-9622.3\\frac{1}{T}\n",
    "\\end{align}\n",
    "\n",
    "Set $\\phi=20$ and determine $k_T$\n",
    "\n",
    "\\begin{align}\n",
    "\\phi_1^2=20^2&=\\frac{k'_T(2000)(1\\times 10^{-3})^2}{4\\times 10^{-9}}\\\\\n",
    "\\implies k'_T&=\\frac{400(4\\times 10^{-9})}{(2000)(1\\times 10^{-3})^2}\\\\\n",
    "\\implies k'_T&=8.0\\times 10^{-4}\n",
    "\\end{align}\n",
    "\n",
    "Substitute and determine $T$\n",
    "\n",
    "\\begin{align}\n",
    "\\implies \\ln k_T'&=17.270-9622.3\\frac 1T\\\\\n",
    "\\implies T&=121.3\\ ^\\circ C\\\\\n",
    "\\end{align}\n",
    "\n",
    "**Implies that above $120\\ ^\\circ C$, we can assume that the reaction rate is limited by the internal mass transfer rate**"
   ]
  },
  {
   "cell_type": "markdown",
   "metadata": {},
   "source": [
    "---\n",
    "### Part D\n",
    "For the specific system, by how much is the rate constant over predicted/under predicted at the ‘intersection’ or ‘bend’ temperature if the sudden slope change method (discussed above) is used?"
   ]
  },
  {
   "cell_type": "code",
   "execution_count": null,
   "metadata": {
    "collapsed": true
   },
   "outputs": [],
   "source": []
  }
 ],
 "metadata": {
  "anaconda-cloud": {},
  "kernelspec": {
   "display_name": "Python [conda root]",
   "language": "python",
   "name": "conda-root-py"
  },
  "language_info": {
   "codemirror_mode": {
    "name": "ipython",
    "version": 3
   },
   "file_extension": ".py",
   "mimetype": "text/x-python",
   "name": "python",
   "nbconvert_exporter": "python",
   "pygments_lexer": "ipython3",
   "version": "3.5.2"
  }
 },
 "nbformat": 4,
 "nbformat_minor": 1
}
