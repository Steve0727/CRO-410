{
 "cells": [
  {
   "cell_type": "code",
   "execution_count": 7,
   "metadata": {
    "collapsed": true
   },
   "outputs": [],
   "source": [
    "import numpy as np\n",
    "import matplotlib.pyplot as plt\n",
    "%matplotlib inline\n",
    "from scipy.optimize import fsolve\n",
    "from scipy.integrate import quad, odeint"
   ]
  },
  {
   "cell_type": "markdown",
   "metadata": {},
   "source": [
    "# Tutorial 5\n",
    "## Question 3\n",
    "\n",
    "A first order liquid phase reaction where component A reacts to form B using a\n",
    "porous catalyst is studied in a packed bed reactor. The following is known\n",
    "about the fixed bed setup:\n",
    "\n",
    "\\begin{array}{lrl}\n",
    "\\hline\n",
    "\\mathrm{Parameter} & \\mathrm{Value} & \\mathrm{Units}\\\\\n",
    "\\hline\n",
    "W & 0.9 & \\mathrm{kg}\\\\\n",
    "d_p & 2 & \\mathrm{mm}\\\\\n",
    "\\rho_b & 1300 & \\mathrm{kg/m^3}\\\\\n",
    "D_e & 1.8\\times 10^{-9} & \\mathrm{m^2/s}\\\\\n",
    "Q_o & 60 & \\mathrm{L/hr}\\\\\n",
    "x & 0.895 & \\\\\n",
    "D_{rx} & 4 & \\mathrm{cm}\\\\\n",
    "k_i' & 5.0\\times 10^{-4} & \\mathrm{m^3/kg/s}\\\\\n",
    "D_{AB} & 3.0\\times 10^{-9} & \\mathrm{m^2/s}\\\\\n",
    "\\mu &  0.001 & \\mathrm{kg/m/s}\\\\\n",
    "\\epsilon & 0.4 &\\\\\n",
    "\\rho_L & 1000 & \\mathrm{kg/m^3}\\\\\n",
    "\\hline\n",
    "\\end{array}"
   ]
  },
  {
   "cell_type": "markdown",
   "metadata": {},
   "source": [
    "---\n",
    "### Part A\n",
    "What is the catalyst effectiveness factor?\n",
    "\n",
    "---"
   ]
  },
  {
   "cell_type": "markdown",
   "metadata": {},
   "source": [
    "**THIELE MODULUS**\n",
    "\n",
    "\\begin{align}\n",
    "\\phi_n^2&=\\mathrm{\\frac{\"\"\\ surface\\ reaction\\ rate}{\"\"\\ diffusion\\ rate}}\\\\ \\ \\\\\n",
    "&=\\frac{k_i'\\rho_cR^2C_{As}^{n-1}}{D_e}\\\\\n",
    "&=\\frac{k_i'\\rho_bR^2C_{As}^{n-1}}{D_e(1-\\epsilon)}\\\\\n",
    "\\phi_1^2&=\\frac{(0.0005)(1300)(\\frac{1}{4}(0.002)^2)}{1.8\\times 10^{-9}(0.6)}\\\\\n",
    "\\phi_1^2&=601.85\\\\\n",
    "\\phi_1&=24.533\n",
    "\\end{align}"
   ]
  },
  {
   "cell_type": "markdown",
   "metadata": {},
   "source": [
    "**INTERNAL EFFECTIVENESS FACTOR**\n",
    "\n",
    "$$\n",
    "\\eta=\\frac{\\mathrm{Actual\\ overall\\ rate\\ of\\ reaction}}{\\mathrm{Rate\\ if\\ all\\ interior\\ surface\\ were\\ exposed\\ to}\\ C_{As}}\n",
    "$$\n",
    "\n",
    "For a first order reaction\n",
    "\n",
    "\\begin{align}\n",
    "\\eta&=\\frac{3}{\\phi_1^2}\\left(\\phi_1\\coth\\phi_1-1\\right)\\\\\n",
    "&=\\frac{3}{601.85}\\left(24.533\\coth(24.533)-1\\right)\\\\\n",
    "&=0.1173\n",
    "\\end{align}"
   ]
  },
  {
   "cell_type": "markdown",
   "metadata": {},
   "source": [
    "---\n",
    "### Part B\n",
    "Does liquid-solid mass transfer play a role? Answer this question without the use of a correlation.\n",
    "\n",
    "---"
   ]
  },
  {
   "cell_type": "markdown",
   "metadata": {},
   "source": [
    "If only internal mass transfer is considered $k_{eff}'=\\eta k_i'$. If this conversion is lower than what is actually obtained, it implies that the rate is influenced by external mass transfer and $$\\frac{1}{k_{eff}'}=\\frac{1}{k_ca_m}+\\frac{1}{\\eta k_i'}$$\n",
    "\n",
    "$$\n",
    "k_{eff}=\\frac{\\eta k_i'k_ca_m}{\\eta k_i'+k_ca_m}\n",
    "$$\n",
    "\n",
    "\\begin{align}\n",
    "Q_oC_{Ao}\\frac{dx}{dW}&=k_{eff}'C_{Ao}(1-x)\\\\\n",
    "\\int^{x}_{0}\\frac{dx}{1-x}&=\\frac{k_{eff}'W}{Q_o}\\\\\n",
    "-\\ln(1-x)&=\\frac{k_{eff}'W}{Q_o}=3.1671\\\\\n",
    "x&=1-\\exp(-3.1671)\\\\\n",
    "&=0.958\n",
    "\\end{align}\n",
    "\n",
    "Because $x_{ideal}=0.958$ and $x_{actual}=0.895$, mass transfer affects the rate\n",
    "\n",
    "---"
   ]
  },
  {
   "cell_type": "markdown",
   "metadata": {},
   "source": [
    "### Part C\n",
    "If the reactor diameter is changed to 2 cm while still using the same mass of catalyst (longer reactor), what will be the new conversion?"
   ]
  },
  {
   "cell_type": "markdown",
   "metadata": {},
   "source": [
    "---\n",
    "Determine the superficial velocities $U_1,\\ U_2$\n",
    "\n",
    "$$\n",
    "U_1=\\frac{Q_o}{A_{Rx}}=\\frac{Q_o}{\\frac{\\pi}{4}D_{Rx}^2}=\\frac{\\frac{60\\times 10^-3}{3600}}{\\frac{\\pi}{4}(0.04)^2}=0.01326\\ \\mathrm{m/s}\\\\\n",
    "$$\n",
    "\n",
    "$$\n",
    "U_2=\\frac{Q_o}{A_{Rx}}=\\frac{Q_o}{\\frac{\\pi}{4}D_{Rx}^2}=\\frac{\\frac{60\\times 10^-3}{3600}}{\\frac{\\pi}{4}(0.02)^2}=0.05305\\ \\mathrm{m/s}\n",
    "$$\n",
    "\n",
    "Thoene Kramer correlation to determine $k_{c1}$\n",
    "\n",
    "\\begin{align}\n",
    "\\left[\\frac{k_cd_p}{D_{AB}}\\left(\\frac{\\epsilon}{1-\\epsilon}\\right)\\frac{1}{\\gamma}\\right] &= \\left[\\frac{Ud_p\\rho_L}{\\mu(1-\\epsilon)\\gamma}\\right]^{1/2}\\left(\\frac{\\mu}{\\rho D_{AB}}\\right)^{1/3}\\\\\n",
    "\\implies\\left[\\frac{k_{c1}(0.002)}{3.0\\times 10^{-9}}\\left(\\frac{0.4}{0.6}\\right)\\right] &= \\left[\\frac{(0.01326)(0.002)(1000)}{(0.001)(0.6)}\\right]^{1/2} \\left(\\frac{0.001}{1000(3.0\\times 10^{-9})}\\right)^{1/3}\\\\\n",
    "\\implies k_{c1}&=1.0372\\times 10^{-4}\n",
    "\\end{align}\n",
    "\n",
    "Proportionality\n",
    "\n",
    "\\begin{align}\n",
    "\\frac{\\left[\\frac{k_{c1}d_p}{D_{AB}\\left(\\frac{\\phi}{1-\\phi}\\right)\\frac{1}{\\gamma}}\\right]}{\\left[\\frac{k_{c2}d_p}{D_{AB}\\left(\\frac{\\phi}{1-\\phi}\\right)\\frac{1}{\\gamma}}\\right]} = \\left[\\frac{\\frac{U_1d_p\\rho_L}{\\mu(1-\\epsilon)\\gamma}}{\\frac{U_2d_p\\rho_L}{\\mu(1-\\epsilon)\\gamma}}\\right]^{1/2}\\cdot\\left(\\frac{\\frac{\\mu}{\\rho_LD_{AB}}}{\\frac{\\mu}{\\rho_LD_{AB}}}\\right)^{1/3}\n",
    "\\end{align}\n",
    "\n",
    "\\begin{equation}\n",
    "\\implies\\frac{k_{c2}}{k_{c1}}=\\left[\\frac{U_2}{U_1}\\right]^{1/2}\\\\\n",
    "\\implies k_{c2}=1.0372\\times 10^{-4}\\cdot\\left[\\frac{0.05305}{0.01326}\\right]^{1/2}\\\\\n",
    "\\implies k_{c2}=2.0746\\times 10^{-4}\n",
    "\\end{equation}\n",
    "\n",
    "We need $a_m$\n",
    "\n",
    "\\begin{align}\n",
    "a_m&=\\frac{\\pi d_p^2}{\\frac{\\pi}{6}d_p^3\\rho_c}\\\\\n",
    "&=\\frac{\\pi d_p^2}{\\frac{\\pi}{6}d_p^3\\frac{\\rho_b}{1-\\epsilon}}\\\\\n",
    "&=\\frac{6(1-\\epsilon)}{d_p\\rho_b}\\\\\n",
    "&=\\frac{6(0.6)}{0.002(1300)}\\\\\n",
    "&=1.3846\n",
    "\\end{align}\n",
    "\n",
    "Now we can calculate $k_{eff}'$\n",
    "\n",
    "\\begin{align}\n",
    "k_{eff}'&=\\frac{\\eta k'_ik_ca_m}{\\eta k'_i + k_ca_m}\\\\\n",
    "&=\\frac{\\eta k'_ik_ca_m}{\\eta k'_i + k_ca_m}\\\\\n",
    "&=\\frac{(0.1173)(5.0\\times 10^{-4})(2.0746\\times 10^{-4})(1.3846)}{(0.1173)(5.0\\times 10^{-4})+(2.0746\\times 10^{-4})(1.3846)}\\\\\n",
    "&=4.8705\\times 10^{-5}\n",
    "\\end{align}\n",
    "\n",
    "\\begin{align}\n",
    "-\\ln(1-x)&=\\frac{k_{eff}'W}{Q_o}=2.630\\\\\n",
    "x&=1-\\exp(-2.630)\\\\\n",
    "&=0.928\n",
    "\\end{align}"
   ]
  },
  {
   "cell_type": "markdown",
   "metadata": {},
   "source": [
    "---\n",
    "### Part D\n",
    "Calculate the conversion if the 4 cm reactor is used with 1.5 mm catalyst\n",
    "(same total mass of catalyst)\n",
    "\n",
    "---"
   ]
  },
  {
   "cell_type": "markdown",
   "metadata": {},
   "source": [
    "Thoenes Kramer proportion\n",
    "\n",
    "\\begin{align}\n",
    "\\frac{k_{c2}d_{p2}}{k_{c1}d_{p1}}&=\\left[\\frac{d_{p2}}{d_{p1}}\\right]^{1/2}\\\\\n",
    "\\frac{k_{c2}}{k_{c1}}&=\\left[\\frac{d_{p1}}{d_{p2}}\\right]^{1/2}\\\\\n",
    "k_{c2}&=k_{c1}\\left[\\frac{d_{p1}}{d_{p2}}\\right]^{1/2}\\\\\n",
    "&=(1.0372\\times 10^{-4})\\left[\\frac{2.0\\times 10^{-3}}{1.5\\times 10^{-3}}\\right]^{1/2}\\\\\n",
    "&=1.1977\\times 10^{-4}\n",
    "\\end{align}\n",
    "\n",
    "Recalculate $a_m$,\n",
    "\n",
    "\\begin{align}\n",
    "a_m&=\\frac{6(1-\\epsilon)}{d_p\\rho_b}\\\\\n",
    "&=\\frac{6(0.6)}{1.5\\times 10^{-3}(1300)}\\\\\n",
    "&=1.8462\n",
    "\\end{align}\n",
    "\n",
    "Recalculate $\\phi$\n",
    "\n",
    "\\begin{align}\n",
    "\\phi_n^2&=\\mathrm{\\frac{\"\"\\ surface\\ reaction\\ rate}{\"\"\\ diffusion\\ rate}}\\\\ \\ \\\\\n",
    "&=\\frac{k_i'\\rho_cR^2C_{As}^{n-1}}{D_e}\\\\\n",
    "&=\\frac{k_i'\\rho_bR^2C_{As}^{n-1}}{D_e(1-\\epsilon)}\\\\\n",
    "\\phi_1^2&=\\frac{(0.0005)(1300)(\\frac{1}{4}(0.0015)^2)}{1.8\\times 10^{-9}(0.6)}\\\\\n",
    "\\phi_1^2&=338.54\\\\\n",
    "\\phi_1&=18.400\n",
    "\\end{align}\n",
    "\n",
    "Recalculate\n",
    "\n",
    "\\begin{align}\n",
    "\\eta&=\\frac{3}{\\phi_1^2}\\left(\\phi_1\\coth\\phi_1-1\\right)\\\\\n",
    "&=\\frac{3}{338.54}\\left(18.400\\coth(18.400)-1\\right)\\\\\n",
    "&=0.1542\n",
    "\\end{align}"
   ]
  },
  {
   "cell_type": "markdown",
   "metadata": {},
   "source": [
    "Recalculate $k_{eff}'$\n",
    "\n",
    "\\begin{align}\n",
    "k_{eff}'&=\\frac{\\eta k'_ik_ca_m}{\\eta k'_i + k_ca_m}\\\\\n",
    "&=\\frac{\\eta k'_ik_ca_m}{\\eta k'_i + k_ca_m}\\\\\n",
    "&=\\frac{(0.1542)(5.0\\times 10^{-4})(1.1977\\times 10^{-4})(1.8462)}{(0.1542)(5.0\\times 10^{-4})+(1.1977\\times 10^{-4})(1.8462)}\\\\\n",
    "&=5.7167\\times 10^{-5}\n",
    "\\end{align}\n",
    "\n",
    "Determine new $x$\n",
    "\n",
    "\\begin{align}\n",
    "-\\ln(1-x)&=\\frac{k_{eff}'W}{Q_o}=3.616\\\\\n",
    "x&=1-\\exp(-3.616)\\\\\n",
    "&=0.954\n",
    "\\end{align}"
   ]
  }
 ],
 "metadata": {
  "kernelspec": {
   "display_name": "Python [conda root]",
   "language": "python",
   "name": "conda-root-py"
  },
  "language_info": {
   "codemirror_mode": {
    "name": "ipython",
    "version": 3
   },
   "file_extension": ".py",
   "mimetype": "text/x-python",
   "name": "python",
   "nbconvert_exporter": "python",
   "pygments_lexer": "ipython3",
   "version": "3.5.2"
  }
 },
 "nbformat": 4,
 "nbformat_minor": 1
}
