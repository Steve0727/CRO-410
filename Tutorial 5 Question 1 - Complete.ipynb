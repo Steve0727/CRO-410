{
 "cells": [
  {
   "cell_type": "markdown",
   "metadata": {},
   "source": [
    "# Tutorial 5\n",
    "## Question 1\n",
    "### Fogler 12.3\n",
    "\n",
    "Catalytic reaction\n",
    "\n",
    "$$A\\rightarrow B$$\n",
    "\n",
    "occurs in a fixed bed cotaining spherical, porous particles. The overall rates at a point in the reactor are shown as a function of temperature for various total molar flow rates $F_{To}$\n",
    "\n",
    "<img src='fig123b.png'>"
   ]
  },
  {
   "cell_type": "markdown",
   "metadata": {},
   "source": [
    "#### Part A\n",
    "Is the reaction limited by external diffusion?"
   ]
  },
  {
   "cell_type": "markdown",
   "metadata": {},
   "source": [
    "**Yes. Increasing the molar flow rate equates to an increase in the superficial velocity. The increase in velocity shows and increase in the reaction rate which implies that the reaction is external diffusion limited**\n",
    "\n",
    "<img src='fig116.png'>"
   ]
  },
  {
   "cell_type": "markdown",
   "metadata": {},
   "source": [
    "#### Part B\n",
    "If the answer to Part A was 'yes', under what conditions [of those shown ($T, F_{To}$)] is the reaction limited by external diffusion?"
   ]
  },
  {
   "cell_type": "markdown",
   "metadata": {},
   "source": [
    "**All temperatures and $F_{To}=10\\ \\mathrm{mol/hr}$. The rate if reaction changes with flow rate and increase linearly with temperature**"
   ]
  },
  {
   "cell_type": "markdown",
   "metadata": {},
   "source": [
    "#### Part C\n",
    "Is the reaction \"reaction-rate-limited\"?"
   ]
  },
  {
   "cell_type": "markdown",
   "metadata": {},
   "source": [
    "**Yes**"
   ]
  },
  {
   "cell_type": "markdown",
   "metadata": {},
   "source": [
    "#### Part D\n",
    "If the answer to Part C was 'yes', under what conditions [of those shown ($T, F_{To}$)] is the reaction limited by the rate of the surface reactions?"
   ]
  },
  {
   "cell_type": "markdown",
   "metadata": {},
   "source": [
    "\\begin{align}\n",
    "\\mathrm{T<367\\ K,\\ F_{To}=}&\\mathrm{1000,\\ 5000\\ mol/hr}\\\\ \\ \\\\\n",
    "\\mathrm{T<362\\ K,\\ F_{To}=}&\\mathrm{100\\ mol/hr}\n",
    "\\end{align}"
   ]
  },
  {
   "cell_type": "markdown",
   "metadata": {},
   "source": [
    "#### Part E\n",
    "Is the reaction limited by internal diffusion?"
   ]
  },
  {
   "cell_type": "markdown",
   "metadata": {},
   "source": [
    "**Yes**"
   ]
  },
  {
   "cell_type": "markdown",
   "metadata": {},
   "source": [
    "#### Part F\n",
    "If the answer to Part E was 'yes', under what conditions [of those shown ($T, F_{To}$)] is the reaction limited by the rate of internal diffusion?"
   ]
  },
  {
   "cell_type": "markdown",
   "metadata": {},
   "source": [
    "\\begin{align}\n",
    "\\mathrm{T>367\\ K,\\ F_{To}=}&\\mathrm{1000,\\ 5000\\ mol/hr}\\\\ \\ \\\\\n",
    "\\mathrm{T>362\\ K,\\ F_{To}=}&\\mathrm{100\\ mol/hr}\n",
    "\\end{align}"
   ]
  },
  {
   "cell_type": "markdown",
   "metadata": {},
   "source": [
    "#### Part G\n",
    "For a flow rate of $10\\ \\mathrm{mol/h}$, determine (if possible) the overall effectiveness factor, $\\Omega$, at 360 K."
   ]
  },
  {
   "cell_type": "markdown",
   "metadata": {},
   "source": [
    "\\begin{align}\n",
    "\\Omega&=\\mathrm{\\frac{actual\\ rate\\ of\\ reaction}{ideal\\ rate\\ of\\ reaction}}\\\\\n",
    "&=\\frac{-r_A(@ 362\\ K,\\ F_{To}=10.00\\ \\mathrm{mol/hr})}{-r_A(@ 362\\ K,\\ F_{To}=5000\\ \\mathrm{mol/hr})}\\\\\n",
    "\\Omega&=\\frac{0.26}{0.70}\\\\\n",
    "&=0.37\n",
    "\\end{align}"
   ]
  },
  {
   "cell_type": "markdown",
   "metadata": {},
   "source": [
    "#### Part H\n",
    "Estimate (if possible) the internal effectiveness factor, $\\eta$, at 367 K."
   ]
  },
  {
   "cell_type": "markdown",
   "metadata": {},
   "source": [
    "\\begin{align}\n",
    "\\eta&=\\mathrm{\\frac{actual\\ rate\\ of\\ reaction\\ (@\\ 362\\ K,\\ F_{To}=5000\\ mol/hr)}{extrapolated\\ rate\\ of\\ reaction\\ (@\\ 362\\ K,\\ F_{To}=5000\\ mol/hr)}}\\\\\n",
    "&=\\frac{1.2}{1.4}\n",
    "\\end{align}"
   ]
  }
 ],
 "metadata": {
  "anaconda-cloud": {},
  "kernelspec": {
   "display_name": "Python [conda root]",
   "language": "python",
   "name": "conda-root-py"
  },
  "language_info": {
   "codemirror_mode": {
    "name": "ipython",
    "version": 3
   },
   "file_extension": ".py",
   "mimetype": "text/x-python",
   "name": "python",
   "nbconvert_exporter": "python",
   "pygments_lexer": "ipython3",
   "version": "3.5.2"
  }
 },
 "nbformat": 4,
 "nbformat_minor": 1
}
