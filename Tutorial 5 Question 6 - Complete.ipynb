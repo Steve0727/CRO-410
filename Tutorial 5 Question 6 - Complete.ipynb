{
 "cells": [
  {
   "cell_type": "markdown",
   "metadata": {},
   "source": [
    "# Tutorial 5\n",
    "## Question 6\n",
    "A first order liquid reaction occurs in a packed bed reactor. The conversion is 80% if 1 mm particles are used.\n",
    "\n",
    "---\n",
    "The packed bed on a volume basis\n",
    "\n",
    "$$\n",
    "-U_s=\\frac{dC_A}{dz}+r_A=0\n",
    "$$\n",
    "\n",
    "For a first order reaction\n",
    "\n",
    "$$\n",
    "-r_A=\\frac{\\eta kk_ca_c}{\\eta k+k_ca_c}C_{Ab}\n",
    "$$\n",
    "\n",
    "---"
   ]
  },
  {
   "cell_type": "markdown",
   "metadata": {},
   "source": [
    "### Part A\n",
    "What will be the conversion if 2 mm particles are used, if one assumes that internal mass transfer is controlling the rate for both particle sizes? [4]"
   ]
  },
  {
   "cell_type": "markdown",
   "metadata": {},
   "source": [
    "---\n",
    "For internal mass transfer controlled regime\n",
    "\n",
    "$$\n",
    "\\eta k \\ll k_ca_c\\\\\n",
    "\\implies -r_A=\\eta kC_{Ab}\n",
    "$$\n",
    "\n",
    "For plug flow\n",
    "\n",
    "\\begin{align}\n",
    "\\frac{1}{A}\\frac{dF_A}{dz}&=-r_A=\\eta kC_{Ab}\\\\\n",
    "\\frac{dx}{dz}&=\\frac{A\\eta k}{Q}dz\\\\\n",
    "\\int^x_0\\frac{dx}{1-x}&=\\frac{A\\eta k}{Q}L\\\\\n",
    "-\\ln(1-x)&=\\frac{\\eta k}{U}L\n",
    "\\end{align}\n",
    "\n",
    "For $d_p=1\\ \\mathrm{mm},\\ x=0.8$\n",
    "\n",
    "$$\n",
    "-\\ln(1-0.8)=\\left[\\frac{\\eta kL}{U_s}\\right]_{d_{p1}}\\\\\n",
    "1.6094=\\left[\\frac{\\eta kL}{U_s}\\right]_{d_{p1}}\n",
    "$$\n",
    "\n",
    "For the internal mass transfer controlled regime $\\eta\\propto\\frac 1R$\n",
    "\n",
    "Thus if $R$ doubles, $\\eta$ halves,\n",
    "\n",
    "\\begin{align}\n",
    "\\implies -\\ln(1-x)&=\\frac{\\eta KL}{2U_s}=\\frac{1.6094}{2}\\\\\n",
    "\\implies x&=1-\\exp\\left(-\\frac{1.6094}{2}\\right)\\\\\n",
    "\\therefore x&=0.553\n",
    "\\end{align}\n",
    "\n",
    "---"
   ]
  },
  {
   "cell_type": "markdown",
   "metadata": {},
   "source": [
    "### Part B\n",
    "What will be the conversion if 2 mm particles are used, if one assumes that external mass transfer is controlling the rate for both particle sizes? [4]\n",
    "\n",
    "---"
   ]
  },
  {
   "cell_type": "markdown",
   "metadata": {},
   "source": [
    "For external mass transfer controlled regime\n",
    "\n",
    "$$\n",
    "\\eta k \\gg k_ca_c\n",
    "$$\n",
    "\n",
    "For plug flow\n",
    "\n",
    "\\begin{align}\n",
    "\\frac{1}{A}\\frac{dx}{dz}&=-r_A=k_ca_cC_{Ab}\\\\\n",
    "\\int^x_0\\frac{dx}{1-x}&=\\frac{Ak_ca_c}{Q}L\\\\\n",
    "-\\ln(1-x)&=\\frac{k_ca_c}{U}L\\\\\n",
    "1.6094&=\\frac{k_ca_c}{U}L\n",
    "\\end{align}\n",
    "\n",
    "We use the Thoenes Kramer correlation,\n",
    "\n",
    "$$\n",
    "\\left[\\frac{k_cd_p}{D_{AB}}\\left(\\frac{\\epsilon}{1-\\epsilon}\\right)\\frac{1}{\\gamma}\\right] = \\left[\\frac{Ud_p\\rho_L}{\\mu(1-\\epsilon)\\gamma}\\right]^{1/2} \\cdot \\left(\\frac{\\mu}{\\rho_LD_{AB}}\\right)^{1/3}\n",
    "$$\n",
    "\n",
    "With which we can determine the proportionality $\\frac{k_{c2}}{k_{c1}}$\n",
    "\n",
    "$$\n",
    "\\frac{\\left[\\frac{k_cd_p}{D_{AB}}\\left(\\frac{\\epsilon}{1-\\epsilon}\\right)\\frac{1}{\\gamma}\\right]}{\\left[\\frac{k_cd_p}{D_{AB}}\\left(\\frac{\\epsilon}{1-\\epsilon}\\right)\\frac{1}{\\gamma}\\right]}\n",
    "=\n",
    "\\left[\\frac{\\frac{Ud_p\\rho_L}{\\mu(1-\\epsilon)\\gamma}}{\\frac{Ud_p\\rho_L}{\\mu(1-\\epsilon)\\gamma}}\\right]^{1/2}\n",
    "\\cdot\n",
    "\\left(\\frac{\\frac{\\mu}{\\rho_LD_{AB}}}{\\frac{\\mu}{\\rho_LD_{AB}}}\\right)^{1/3}\n",
    "$$\n",
    "\n",
    "Eliminating constant parameters\n",
    "\n",
    "\\begin{align}\n",
    "\\frac{k_{c2}d_{p2}}{k_{c1}d_{p1}}&=\\left[\\frac{d_{p2}}{d_{p1}}\\right]^{1/2}\\\\\n",
    "\\frac{k_{c2}}{k_{c1}}&=\\left[\\frac{d_{p1}}{d_{p2}}\\right]^{1/2}\\\\\n",
    "&=\\left[\\frac{1}{\\sqrt 2}\\right]\n",
    "\\end{align}\n",
    "\n",
    "Now we need to determine $\\frac{a_{c2}}{a_{c1}}$\n",
    "\n",
    "$$\n",
    "a_c=\\frac{6(1-\\epsilon)}{d_p}\n",
    "$$\n",
    "\n",
    "proportionality\n",
    "\n",
    "\\begin{align}\n",
    "\\frac{a_{c2}}{a_{c1}}&=\\frac{d_{p1}}{d_{p2}}\\\\\n",
    "&=\\frac{1}{2}\n",
    "\\end{align}\n",
    "\n",
    "Determine the new $x$\n",
    "\n",
    "\\begin{align}\n",
    "-\\ln(1-x)=\\frac{1.6094}{2\\sqrt 2}\n",
    "&=0.434\n",
    "\\end{align}"
   ]
  },
  {
   "cell_type": "markdown",
   "metadata": {},
   "source": [
    "---\n",
    "### Part C\n",
    "If the shape of the packed bed is changed so that the reactor is longer and the diameter smaller (the same amount catalyst is used), how will the conversion change for the 2 mm packed bed in (1). How will it change for the packed bed in (2)."
   ]
  },
  {
   "cell_type": "markdown",
   "metadata": {},
   "source": [
    "---\n",
    "Reducing $D_{Rx}$ reduces $A_{Rx}$. If $Q$ is to remain the same, $U$ must increase.\n",
    "\n",
    "**For Part A** - Higher velocity will not affect $x$ if internal mas transfer controls\n",
    "\n",
    "**For Part B** - The increased velocity will increase $x$ since $k_c\\propto U^{1/2}$"
   ]
  },
  {
   "cell_type": "code",
   "execution_count": null,
   "metadata": {
    "collapsed": true
   },
   "outputs": [],
   "source": []
  }
 ],
 "metadata": {
  "kernelspec": {
   "display_name": "Python [conda root]",
   "language": "python",
   "name": "conda-root-py"
  },
  "language_info": {
   "codemirror_mode": {
    "name": "ipython",
    "version": 3
   },
   "file_extension": ".py",
   "mimetype": "text/x-python",
   "name": "python",
   "nbconvert_exporter": "python",
   "pygments_lexer": "ipython3",
   "version": "3.5.2"
  }
 },
 "nbformat": 4,
 "nbformat_minor": 1
}
