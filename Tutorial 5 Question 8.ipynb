{
 "cells": [
  {
   "cell_type": "markdown",
   "metadata": {},
   "source": [
    "# Tutorial 5\n",
    "## Question 8\n",
    "\n",
    "---\n",
    "A porous catalyst is studied in a CSTR where a first order liquid phase reaction is catalysed by the active sites on the catalyst surface.\n",
    "\n",
    "The actives sites are equally distributed throughout the catalyst.\n",
    "\n",
    "Different catalyst particle sizes (assume spherical) are studied using different stirrer speeds in the CSTR.\n",
    "\n",
    "It is known that \n",
    "\n",
    "$$\n",
    "\\omega\\propto k_c\\\\\n",
    "\\omega\\propto d_p^{1/2}\n",
    "$$\n",
    "\n",
    "Also\n",
    "\n",
    "$S_i= 50\\ \\mathrm{m^2\\cdot g^{-1}}$\n",
    "\n",
    "The table below lists some of the important results:\n",
    "\n",
    "\\begin{array}{ccc}\n",
    "\\hline\n",
    "\\mathrm{d_p\\ [mm]} & \\mathrm{\\omega\\ [RPM]} & C_{A,\\mathrm{out}}\\ \\mathrm{M}\\\\\n",
    "\\hline\n",
    "0.1 & 1000.0 & 1.50 \\\\\n",
    "0.2 & 1000.0 & 1.50 \\\\\n",
    "1.0 &  500.0 & 1.65 \\\\\n",
    "2.0 &  200.0 & -    \\\\\n",
    "\\hline\n",
    "\\end{array}\n",
    "\n",
    "The following conditions are the same for all the runs\n",
    "\n",
    "\\begin{align}\n",
    "C_{Ao} &= 3.00\\ \\mathrm{M}\\\\\n",
    "D_e &= 9.0\\times 10^{-8}\\ \\mathrm{m^2/s}\\\\\n",
    "\\rho_c &= 1600\\ \\mathrm{kg/m^3}\\\\\n",
    "W &= 20\\ \\mathrm{g}\\\\\n",
    "Q &= 0.5\\ \\mathrm{L/min}\n",
    "\\end{align}\n",
    "\n",
    "---"
   ]
  },
  {
   "cell_type": "markdown",
   "metadata": {},
   "source": [
    "### Part A\n",
    "Predict the conversion that will be obtained if the same mass of 2 mm\n",
    "spherical particles are used at a stirrer speed of 200 rpm (run 4)\n",
    "\n",
    "---"
   ]
  },
  {
   "cell_type": "markdown",
   "metadata": {},
   "source": [
    "There is no difference between runs 1 and 2 despite the change in $d_p$. Because $\\eta,\\ k_c$, and $a_m$ depend on $d_p$ we assume that $k_i'=k_{eff}'$\n",
    "\n",
    "$$\n",
    "-r_A'=k_i'C_A\n",
    "$$\n",
    "\n",
    "For the CSTR\n",
    "\n",
    "\\begin{align}\n",
    "F_{Ao}x=&k_i'C_{Ao}(1-x)W\\\\\n",
    "QC_{Ao}x=&k_i'C_{Ao}(1-x)W\\\\\n",
    "k_i'=&\\frac{Qx}{(1-x)W}\\\\\n",
    "=&\\frac{\\frac{0.5}{1000(60)}(0.5)}{0.5(0.02)}\\\\\n",
    "=&4.1667\\times 10^{-4}\n",
    "\\end{align}\n",
    "\n",
    "The Thiele modulus,\n",
    "\n",
    "\\begin{align}\n",
    "\\phi_1^2=&\\frac{k_i'\\rho_cR^2}{D_e}\\\\\n",
    "=&\\frac{\\left(4.1667\\times 10^{-4}\\right)(1600)\\left(\\frac{d_p}{2}\\right)^2}{9\\times 10^{-8}}\n",
    "\\end{align}\n",
    "\n",
    "If we substitute $d_p=[0.1;\\ 0.2]$,\n",
    "\n",
    "$$\n",
    "\\phi_1=[0.1361;\\ 0.2722]\n",
    "$$\n",
    "\n",
    "The effectiveness factor,\n",
    "\n",
    "$$\n",
    "\\eta=\\frac{3}{\\phi^2_1}\\left(\\phi_1\\coth\\phi_1-1\\right)\n",
    "$$\n",
    "\n",
    "Evaluating for $\\phi_1=[0.1361;\\ 0.2722]$,\n",
    "\n",
    "$$\n",
    "\\eta=[0.999;\\ 0.995]\n",
    "$$"
   ]
  },
  {
   "cell_type": "code",
   "execution_count": 12,
   "metadata": {
    "collapsed": false
   },
   "outputs": [
    {
     "name": "stdout",
     "output_type": "stream",
     "text": [
      "0.998767605443\n",
      "0.995096310148\n",
      "0.894919894054\n",
      "0.706846753047\n"
     ]
    }
   ],
   "source": [
    "import numpy as np\n",
    "from scipy.optimize import fsolve\n",
    "\n",
    "rc = 1600\n",
    "Q = 0.5e-3/60\n",
    "De = 9e-8\n",
    "W = 20e-3\n",
    "\n",
    "def solve():\n",
    "    def sol(ki):\n",
    "        x = 0.5\n",
    "        return Q*x - ki*(1-x)*W\n",
    "    return fsolve(sol, 1)[0]\n",
    "\n",
    "ki = solve()\n",
    "\n",
    "def phi(dp):\n",
    "    return np.sqrt(ki*rc*((dp/2)**2)/De)\n",
    "\n",
    "def eta(dp):\n",
    "    p = phi(dp)\n",
    "    return 3/p/p * (p/np.tanh(p) - 1)\n",
    "\n",
    "for d in np.array([0.1, 0.2, 1, 2])/1000:\n",
    "    print(eta(d))"
   ]
  },
  {
   "cell_type": "markdown",
   "metadata": {},
   "source": [
    "---\n",
    "### Part B\n",
    "A new catalyst is manufactured, where the material of the catalyst investigated in run 1- 4 listed above, is used to coat solid (non-porous) metal spheres.\n",
    "\n",
    "The coating is so thin that it does not affect the particle diameter of the spheres.\n",
    "\n",
    "Furthermore, the density of the active sites per area of the coating is the same as that of the porous catalyst.\n",
    "\n",
    "Spheres with a diameter of 1 mm are used in the same CSTR as that used in the previous runs, at a stirrer speed of 500 RPM.\n",
    "\n",
    "The inlet conditions to the reactor and the densities of the two catalyst types are the same as those reported in above.\n",
    "\n",
    "What mass of catalyst is needed in the reactor to achieve the same conversion obtained as with the 1 mm porous catalyst particles in run 3?\n",
    "\n",
    "You may assume that the flow conditions in the reactor are not affected by the amount of catalyst.\n",
    "\n",
    "*Comment on the validity of this assumption for bonus marks.*\n",
    "\n",
    "---"
   ]
  },
  {
   "cell_type": "markdown",
   "metadata": {
    "collapsed": true
   },
   "source": [
    "$$\n",
    "\\phi_n^2=\\frac{k_i'\\rho_cR^2C_{As}^{n-1}}{D_e}\n",
    "$$"
   ]
  },
  {
   "cell_type": "code",
   "execution_count": null,
   "metadata": {
    "collapsed": true
   },
   "outputs": [],
   "source": []
  }
 ],
 "metadata": {
  "anaconda-cloud": {},
  "kernelspec": {
   "display_name": "Python [conda root]",
   "language": "python",
   "name": "conda-root-py"
  },
  "language_info": {
   "codemirror_mode": {
    "name": "ipython",
    "version": 3
   },
   "file_extension": ".py",
   "mimetype": "text/x-python",
   "name": "python",
   "nbconvert_exporter": "python",
   "pygments_lexer": "ipython3",
   "version": "3.5.2"
  }
 },
 "nbformat": 4,
 "nbformat_minor": 1
}
