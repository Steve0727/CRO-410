{
 "cells": [
  {
   "cell_type": "code",
   "execution_count": 3,
   "metadata": {
    "collapsed": true
   },
   "outputs": [],
   "source": [
    "import numpy as np\n",
    "import matplotlib.pyplot as plt\n",
    "%matplotlib inline\n",
    "from scipy.optimize import fsolve\n",
    "from scipy.integrate import quad, odeint"
   ]
  },
  {
   "cell_type": "markdown",
   "metadata": {},
   "source": [
    "# Tutorial 5\n",
    "## Question 2\n",
    "\n",
    "The first order gas phase reaction where,\n",
    "\n",
    "$$\n",
    "A\\rightarrow B\n",
    "$$\n",
    "\n",
    "is performed in a PBR.\n",
    "\n",
    "You can assume the absence of external mass transfer effects.\n",
    "\n",
    "Given the information below determine the intrinsic rate constant at this temperature ($k_i'$).\n",
    "\n",
    "\\begin{array}{lrl}\n",
    "\\hline\n",
    "\\mathrm{Parameter} & \\mathrm{Value} & \\mathrm{Units} \\\\\n",
    "\\hline\n",
    "W & 7 & \\mathrm{kg} \\\\\n",
    "d_p & 2 & \\mathrm{mm} \\\\\n",
    "\\rho_{cat} & 1600 & \\mathrm{kg/m^3} \\\\\n",
    "D_e & 5\\times-0.9 & \\mathrm{m^2/s} \\\\\n",
    "Q & 20 & \\mathrm{L/min} \\\\\n",
    "x & 0.6 & \\\\\n",
    "\\epsilon & 0.4 & \\\\\n",
    "\\rho_L & 1100 & \\mathrm{kg/m^3} \\\\\n",
    "\\hline\n",
    "\\end{array}"
   ]
  },
  {
   "cell_type": "code",
   "execution_count": 7,
   "metadata": {
    "collapsed": true
   },
   "outputs": [],
   "source": [
    "W = 7\n",
    "dp = 2e-3\n",
    "epsilon = 0.4\n",
    "rhoc = 1600\n",
    "rhob = rhoc*(1 - epsilon)\n",
    "De = 5e-9\n",
    "Q = 20e-3/60\n",
    "x_obt = 0.6\n",
    "rhoL = 1100"
   ]
  },
  {
   "cell_type": "markdown",
   "metadata": {
    "collapsed": true
   },
   "source": [
    "# PBR - Mole Balance\n",
    "\n",
    "We need the apparent rate constant from data. For $n=1$,\n",
    "\n",
    "$$\n",
    "k_{app}=\\eta k_i'\\\\\n",
    "$$\n",
    "\n",
    "For plug flow\n",
    "\n",
    "$$\n",
    "\\frac{dF_A}{dW}=-r_A'\\\\\n",
    "\\frac{dF_A}{dW}=k_{app}'C_A\\\\\n",
    "QC_{Ao}\\frac{dx}{dW}=k_{app}'C_{Ao}(1-x)\\\\\n",
    "\\int^{x=0.6}_{x=0}\\frac{dx}{1-x}=\\frac{k_{app}'W}{Q}\\\\\n",
    "-\\ln(1-x)\\big\\rvert^{0.6}_0=\\frac{k_{app}'W}{Q}\\\\\n",
    "k_{app}'=-\\frac{Q\\ln(1-x)\\big\\rvert^{0.6}_0}{W}\n",
    "$$"
   ]
  },
  {
   "cell_type": "markdown",
   "metadata": {},
   "source": [
    "# Thiele-Modulus ($\\phi_n$)\n",
    "\n",
    "\\begin{align}\n",
    "\\phi_n^2&=\\frac{k_i'\\rho_cR^2C_{As}^{n-1}}{D_e}\\\\\n",
    "&=\\frac{\\frac{k_{app}}{\\eta}\\rho_cR^2C_{As}^{n-1}}{D_e}\n",
    "\\end{align}"
   ]
  },
  {
   "cell_type": "markdown",
   "metadata": {},
   "source": [
    "# Effectiveness ($\\eta$) - First Order Reaction\n",
    "\n",
    "$$\n",
    "\\eta=\\frac{3}{\\phi_1^2}\\left(\\phi_1\\coth\\phi_1-1\\right)\n",
    "$$"
   ]
  },
  {
   "cell_type": "code",
   "execution_count": 13,
   "metadata": {
    "collapsed": false
   },
   "outputs": [
    {
     "name": "stdout",
     "output_type": "stream",
     "text": [
      "ki =  9.990042196126114e-05\n",
      "eta =  0.436763906518\n"
     ]
    }
   ],
   "source": [
    "def dx(x):\n",
    "    return 1/(1-x)\n",
    "\n",
    "kapp = quad(dx, 0, x_obt)[0]*Q/W\n",
    "\n",
    "def phi2(ki):\n",
    "    return ki*rhoc*(dp**2 / 4)/De\n",
    "\n",
    "def eta(ki):\n",
    "    p2 = phi2(ki)\n",
    "    p1 = np.sqrt(p2)\n",
    "    return 3/p2 * (p1/np.tanh(p1) - 1)\n",
    "\n",
    "def solver(ki):\n",
    "    return kapp - eta(ki)*ki\n",
    "\n",
    "ki = np.linspace(1e-6, 2e-4, 1000)\n",
    "ki = np.interp(0, solver(ki)[::-1], ki[::-1])\n",
    "\n",
    "print('ki = ', ki)\n",
    "print('eta = ', eta(ki))"
   ]
  },
  {
   "cell_type": "code",
   "execution_count": null,
   "metadata": {
    "collapsed": true
   },
   "outputs": [],
   "source": []
  }
 ],
 "metadata": {
  "anaconda-cloud": {},
  "kernelspec": {
   "display_name": "Python [conda root]",
   "language": "python",
   "name": "conda-root-py"
  },
  "language_info": {
   "codemirror_mode": {
    "name": "ipython",
    "version": 3
   },
   "file_extension": ".py",
   "mimetype": "text/x-python",
   "name": "python",
   "nbconvert_exporter": "python",
   "pygments_lexer": "ipython3",
   "version": "3.5.2"
  }
 },
 "nbformat": 4,
 "nbformat_minor": 1
}
