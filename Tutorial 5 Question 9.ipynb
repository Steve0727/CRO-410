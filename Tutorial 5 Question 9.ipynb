{
 "cells": [
  {
   "cell_type": "markdown",
   "metadata": {},
   "source": [
    "# Tutorial 5\n",
    "## Question 9\n",
    "\n",
    "The first order reaction $$A\\rightarrow B$$ is carried out in a laboratory scale CSTR at different $\\omega, T$, and $d_p$.\n",
    "\n",
    "The results at a fixed concentration of $C_A = 16.9\\times 10^3\\ \\mathrm{mol/m^3}$, is shown on the attached figure.\n",
    "\n",
    "The catalyst is porous and $\\rho_c = 1200\\ \\mathrm{kg/m^3}$.\n",
    "\n",
    "It is also known that the total catalyst surface area, $S_i=100\\ \\mathrm{m^2/g}$"
   ]
  },
  {
   "cell_type": "markdown",
   "metadata": {},
   "source": [
    "<img src='59.png'> "
   ]
  },
  {
   "cell_type": "markdown",
   "metadata": {},
   "source": [
    "---\n",
    "### Part A\n",
    "In what region/s ($\\omega, T$ and $d_p$) is the reaction rate influenced by only internal mass transfer limitations (i.e. no external mass transfer effects)?"
   ]
  },
  {
   "cell_type": "markdown",
   "metadata": {},
   "source": [
    "---\n",
    "We need to find the conditions where $-r_A'$ is affected by a change in $d_p$ but **not** $\\omega$\n",
    "\n",
    "**300 K Runs**\n",
    "\n",
    "Runs are the same for both $d_p$ at increasing $\\omega$. \n",
    "\n",
    "** 400 K Runs**\n",
    "\n",
    "- Runs for the smaller $d_p$ exhibit the same characteristics\n",
    "- The run where $d_p=5\\ \\mathrm{mm}$ exhibits internal mass transfer limitations only when,\n",
    "\n",
    "$$\\omega>900\\ \\mathrm{RPM}$$"
   ]
  },
  {
   "cell_type": "markdown",
   "metadata": {},
   "source": [
    "---\n",
    "### Part B\n",
    "In what region/s is the reaction rate influenced by only external mass transfer limitations? (i.e. no internal mass transfer effects)"
   ]
  },
  {
   "cell_type": "markdown",
   "metadata": {},
   "source": [
    "---\n",
    "Here we need to determine where $d_p$ affects $-r_A'$ at low $\\omega$\n",
    "\n",
    "For $d_p=0.3\\ \\mathrm{mm}$ and $T=400\\ \\mathrm K$,\n",
    "\n",
    "$$\n",
    "\\omega<400\\ \\mathrm{RPM}\n",
    "$$\n",
    "\n",
    "For $d_p=0.1\\ \\mathrm{mm}$ and $T=400\\ \\mathrm K$,\n",
    "\n",
    "$$\n",
    "\\omega<200\\ \\mathrm{RPM}\n",
    "$$"
   ]
  },
  {
   "cell_type": "markdown",
   "metadata": {},
   "source": [
    "---\n",
    "**A PBR with**\n",
    "\n",
    "$\n",
    "d_p=5\\ \\mathrm{mm}\\\\\n",
    "W = 100\\ \\mathrm{kg}\\\\\n",
    "\\epsilon=0.4\\\\\n",
    "Q=40\\ \\mathrm{L/min}\n",
    "$\n",
    "\n",
    "**is used**"
   ]
  },
  {
   "cell_type": "markdown",
   "metadata": {},
   "source": [
    "---\n",
    "### Part D\n",
    "What conversion would be obtained if the reactor is free of any external mass transfer or mixing effects and is isothermally operated at 400 K?"
   ]
  },
  {
   "cell_type": "markdown",
   "metadata": {},
   "source": [
    "---\n",
    "For the CSTR:\n",
    "\n",
    "\\begin{align}\n",
    "-r_A'&=\\eta k_i'C_A\\\\\n",
    "\\left[\\mathrm{\\frac{mol}{kg\\cdot s}}\\right]&=[-]\\cdot\\left[\\mathrm{\\frac{m^3}{kg\\cdot s}}\\right]\\cdot\\left[\\mathrm{\\frac{mol}{m^3}}\\right]\\\\\n",
    "0.1&=\\eta k_i'\\left(16.9\\times 10^3\\right)\\\\\n",
    "\\eta k_i'&=5.917\\times 10^{-6}\\\\\n",
    "\\end{align}\n",
    "\n",
    "\n",
    "For the PFR:\n",
    "\n",
    "\\begin{align}\n",
    "\\frac{dF_A}{dW}&=r_A'\\\\\n",
    "QC_{Ao}\\frac{dx}{dW}&=\\eta k_i'C_{Ao}(1-x)\\\\\n",
    "\\int^x_0\\frac{dx}{1-x}&=\\frac{\\eta k_i'W}{Q}\\\\\n",
    "x&=1-\\exp\\left[-\\frac{(5.917\\times 10^{-6})(100)}{\\frac{40}{60(1000)}}\\right]\\\\\n",
    "x&=0.588\n",
    "\\end{align}"
   ]
  },
  {
   "cell_type": "markdown",
   "metadata": {},
   "source": [
    "---\n",
    "### Part E\n",
    "Calculate the conversion that would be achieved if the temperature of the reactor (with 100 kg of catalyst) is increased to 500 K and the reactor layout is such that the rate is still not limited by external mass transfer."
   ]
  },
  {
   "cell_type": "markdown",
   "metadata": {},
   "source": [
    "---\n",
    "For CSTR @ 400 K, $d_p=0.1$\n",
    "\n",
    "\\begin{align}\n",
    "-r_A'&=\\eta k_i'C_A\\\\\n",
    "0.018&=\\eta k_i'(16.9\\times 10^{3})\\\\\n",
    "\\eta_1 k_i'&=1.065\\times 10^{-6}\n",
    "\\end{align}\n",
    "\n",
    "and for $d_p=5.0$,\n",
    "\n",
    "\\begin{equation}\n",
    "\\eta_2 k_i'=5.917\\times 10^{-6}\n",
    "\\end{equation}\n",
    "\n",
    "We know that for internal mass transfer controlled regime, $\\eta\\propto\\frac{1}{d_p}$. Thus\n",
    "\n",
    "\\begin{align}\n",
    "\\frac{\\eta_1}{\\eta_2}=\\frac{d_{p2}}{d_{p1}}=50\n",
    "\\end{align}"
   ]
  },
  {
   "cell_type": "code",
   "execution_count": null,
   "metadata": {
    "collapsed": true
   },
   "outputs": [],
   "source": []
  }
 ],
 "metadata": {
  "kernelspec": {
   "display_name": "Python [conda root]",
   "language": "python",
   "name": "conda-root-py"
  },
  "language_info": {
   "codemirror_mode": {
    "name": "ipython",
    "version": 3
   },
   "file_extension": ".py",
   "mimetype": "text/x-python",
   "name": "python",
   "nbconvert_exporter": "python",
   "pygments_lexer": "ipython3",
   "version": "3.5.2"
  }
 },
 "nbformat": 4,
 "nbformat_minor": 1
}
